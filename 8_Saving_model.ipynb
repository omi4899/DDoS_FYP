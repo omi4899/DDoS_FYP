{
  "nbformat": 4,
  "nbformat_minor": 0,
  "metadata": {
    "accelerator": "GPU",
    "colab": {
      "name": "8. Saving model",
      "provenance": [],
      "collapsed_sections": [],
      "toc_visible": true,
      "machine_shape": "hm"
    },
    "kernelspec": {
      "display_name": "Python 3",
      "name": "python3"
    }
  },
  "cells": [
    {
      "cell_type": "code",
      "metadata": {
        "id": "tZRSiDYNQLSr"
      },
      "source": [
        "import pandas as pd\n",
        "import numpy as np\n",
        "import matplotlib.pyplot as plt\n",
        "import seaborn as sns\n",
        "import warnings\n",
        "import gc\n",
        "import random\n",
        "\n",
        "warnings.simplefilter(action='ignore')\n",
        "%matplotlib inline"
      ],
      "execution_count": 1,
      "outputs": []
    },
    {
      "cell_type": "code",
      "metadata": {
        "colab": {
          "base_uri": "https://localhost:8080/"
        },
        "id": "87T5BetZQYQv",
        "outputId": "039eddef-d072-45fb-a12d-5f23c4761f16"
      },
      "source": [
        "from google.colab import drive\n",
        "drive.mount('/content/drive')"
      ],
      "execution_count": 2,
      "outputs": [
        {
          "output_type": "stream",
          "text": [
            "Mounted at /content/drive\n"
          ],
          "name": "stdout"
        }
      ]
    },
    {
      "cell_type": "code",
      "metadata": {
        "id": "jP8I4ce3wV31"
      },
      "source": [
        "import os\n",
        "model_dir = '/content/drive/My Drive/azure_deploy_model/'\n",
        "os.makedirs(model_dir, exist_ok=True)"
      ],
      "execution_count": 3,
      "outputs": []
    },
    {
      "cell_type": "code",
      "metadata": {
        "colab": {
          "base_uri": "https://localhost:8080/"
        },
        "id": "NtdgRttPmBpG",
        "outputId": "dd483b40-ea4d-45cf-f8b6-d66cdfc9cc7e"
      },
      "source": [
        "path = '/content/drive/MyDrive/FYP Datasets/'\n",
        "df_col = pd.read_csv(path + 'col_dict_2.csv')\n",
        "col_dict = dict(df_col.to_numpy())\n",
        "\n",
        "df = pd.read_csv(path + 'final_2.csv', dtype = col_dict)\n",
        "\n",
        "df.shape"
      ],
      "execution_count": 4,
      "outputs": [
        {
          "output_type": "execute_result",
          "data": {
            "text/plain": [
              "(5922853, 51)"
            ]
          },
          "metadata": {
            "tags": []
          },
          "execution_count": 4
        }
      ]
    },
    {
      "cell_type": "code",
      "metadata": {
        "colab": {
          "base_uri": "https://localhost:8080/",
          "height": 224
        },
        "id": "GcmfNfJITJeL",
        "outputId": "bb07b92d-d3aa-48af-b0f1-39e1bdf35358"
      },
      "source": [
        "df.tail()"
      ],
      "execution_count": 5,
      "outputs": [
        {
          "output_type": "execute_result",
          "data": {
            "text/html": [
              "<div>\n",
              "<style scoped>\n",
              "    .dataframe tbody tr th:only-of-type {\n",
              "        vertical-align: middle;\n",
              "    }\n",
              "\n",
              "    .dataframe tbody tr th {\n",
              "        vertical-align: top;\n",
              "    }\n",
              "\n",
              "    .dataframe thead th {\n",
              "        text-align: right;\n",
              "    }\n",
              "</style>\n",
              "<table border=\"1\" class=\"dataframe\">\n",
              "  <thead>\n",
              "    <tr style=\"text-align: right;\">\n",
              "      <th></th>\n",
              "      <th>Flow_ID</th>\n",
              "      <th>Source_IP</th>\n",
              "      <th>Source_Port</th>\n",
              "      <th>Destination_IP</th>\n",
              "      <th>Destination_Port</th>\n",
              "      <th>Protocol</th>\n",
              "      <th>Timestamp</th>\n",
              "      <th>Flow_Duration</th>\n",
              "      <th>Total_Fwd_Packets</th>\n",
              "      <th>Total_Backward_Packets</th>\n",
              "      <th>Total_Length_of_Fwd_Packets</th>\n",
              "      <th>Fwd_Packet_Length_Max</th>\n",
              "      <th>Fwd_Packet_Length_Std</th>\n",
              "      <th>Bwd_Packet_Length_Max</th>\n",
              "      <th>Bwd_Packet_Length_Min</th>\n",
              "      <th>Bwd_Packet_Length_Mean</th>\n",
              "      <th>Bwd_Packet_Length_Std</th>\n",
              "      <th>Flow_Bytes/s</th>\n",
              "      <th>Flow_Packets/s</th>\n",
              "      <th>Flow_IAT_Mean</th>\n",
              "      <th>Flow_IAT_Std</th>\n",
              "      <th>Flow_IAT_Max</th>\n",
              "      <th>Flow_IAT_Min</th>\n",
              "      <th>Bwd_IAT_Total</th>\n",
              "      <th>Bwd_IAT_Mean</th>\n",
              "      <th>Bwd_IAT_Std</th>\n",
              "      <th>Bwd_IAT_Max</th>\n",
              "      <th>Bwd_IAT_Min</th>\n",
              "      <th>Fwd_PSH_Flags</th>\n",
              "      <th>Fwd_Header_Length</th>\n",
              "      <th>Bwd_Header_Length</th>\n",
              "      <th>Bwd_Packets/s</th>\n",
              "      <th>Max_Packet_Length</th>\n",
              "      <th>Packet_Length_Std</th>\n",
              "      <th>Packet_Length_Variance</th>\n",
              "      <th>SYN_Flag_Count</th>\n",
              "      <th>ACK_Flag_Count</th>\n",
              "      <th>URG_Flag_Count</th>\n",
              "      <th>CWE_Flag_Count</th>\n",
              "      <th>Down/Up_Ratio</th>\n",
              "      <th>Init_Win_bytes_forward</th>\n",
              "      <th>Init_Win_bytes_backward</th>\n",
              "      <th>act_data_pkt_fwd</th>\n",
              "      <th>min_seg_size_forward</th>\n",
              "      <th>Active_Mean</th>\n",
              "      <th>Active_Std</th>\n",
              "      <th>Active_Max</th>\n",
              "      <th>Idle_Std</th>\n",
              "      <th>Idle_Min</th>\n",
              "      <th>Inbound</th>\n",
              "      <th>Label</th>\n",
              "    </tr>\n",
              "  </thead>\n",
              "  <tbody>\n",
              "    <tr>\n",
              "      <th>5922848</th>\n",
              "      <td>3394327.0</td>\n",
              "      <td>247.0</td>\n",
              "      <td>658.0</td>\n",
              "      <td>554.0</td>\n",
              "      <td>53117.0</td>\n",
              "      <td>17.0</td>\n",
              "      <td>203902.0</td>\n",
              "      <td>657.0</td>\n",
              "      <td>34.0</td>\n",
              "      <td>0.0</td>\n",
              "      <td>14960.0</td>\n",
              "      <td>440.0</td>\n",
              "      <td>0.0</td>\n",
              "      <td>0.0</td>\n",
              "      <td>0.0</td>\n",
              "      <td>0.0</td>\n",
              "      <td>0.0</td>\n",
              "      <td>2.277017e+07</td>\n",
              "      <td>5.175038e+04</td>\n",
              "      <td>19.90909</td>\n",
              "      <td>46.90107</td>\n",
              "      <td>243.0</td>\n",
              "      <td>0.0</td>\n",
              "      <td>0.0</td>\n",
              "      <td>0.0</td>\n",
              "      <td>0.0</td>\n",
              "      <td>0.0</td>\n",
              "      <td>0.0</td>\n",
              "      <td>0.0</td>\n",
              "      <td>0.0</td>\n",
              "      <td>0.0</td>\n",
              "      <td>0.0</td>\n",
              "      <td>440.0</td>\n",
              "      <td>0.0</td>\n",
              "      <td>0.0</td>\n",
              "      <td>0.0</td>\n",
              "      <td>0.0</td>\n",
              "      <td>0.0</td>\n",
              "      <td>0.0</td>\n",
              "      <td>0.0</td>\n",
              "      <td>-1.0</td>\n",
              "      <td>-1.0</td>\n",
              "      <td>33.0</td>\n",
              "      <td>0.0</td>\n",
              "      <td>0.0</td>\n",
              "      <td>0.0</td>\n",
              "      <td>0.0</td>\n",
              "      <td>0.0</td>\n",
              "      <td>0.0</td>\n",
              "      <td>1.0</td>\n",
              "      <td>4</td>\n",
              "    </tr>\n",
              "    <tr>\n",
              "      <th>5922849</th>\n",
              "      <td>3304444.0</td>\n",
              "      <td>247.0</td>\n",
              "      <td>648.0</td>\n",
              "      <td>554.0</td>\n",
              "      <td>42732.0</td>\n",
              "      <td>17.0</td>\n",
              "      <td>2087944.0</td>\n",
              "      <td>49.0</td>\n",
              "      <td>2.0</td>\n",
              "      <td>0.0</td>\n",
              "      <td>458.0</td>\n",
              "      <td>229.0</td>\n",
              "      <td>0.0</td>\n",
              "      <td>0.0</td>\n",
              "      <td>0.0</td>\n",
              "      <td>0.0</td>\n",
              "      <td>0.0</td>\n",
              "      <td>9.346939e+06</td>\n",
              "      <td>4.081633e+04</td>\n",
              "      <td>49.00000</td>\n",
              "      <td>0.00000</td>\n",
              "      <td>49.0</td>\n",
              "      <td>49.0</td>\n",
              "      <td>0.0</td>\n",
              "      <td>0.0</td>\n",
              "      <td>0.0</td>\n",
              "      <td>0.0</td>\n",
              "      <td>0.0</td>\n",
              "      <td>0.0</td>\n",
              "      <td>0.0</td>\n",
              "      <td>0.0</td>\n",
              "      <td>0.0</td>\n",
              "      <td>229.0</td>\n",
              "      <td>0.0</td>\n",
              "      <td>0.0</td>\n",
              "      <td>0.0</td>\n",
              "      <td>0.0</td>\n",
              "      <td>0.0</td>\n",
              "      <td>0.0</td>\n",
              "      <td>0.0</td>\n",
              "      <td>-1.0</td>\n",
              "      <td>-1.0</td>\n",
              "      <td>1.0</td>\n",
              "      <td>0.0</td>\n",
              "      <td>0.0</td>\n",
              "      <td>0.0</td>\n",
              "      <td>0.0</td>\n",
              "      <td>0.0</td>\n",
              "      <td>0.0</td>\n",
              "      <td>1.0</td>\n",
              "      <td>5</td>\n",
              "    </tr>\n",
              "    <tr>\n",
              "      <th>5922850</th>\n",
              "      <td>421339.0</td>\n",
              "      <td>247.0</td>\n",
              "      <td>27294.0</td>\n",
              "      <td>554.0</td>\n",
              "      <td>61673.0</td>\n",
              "      <td>17.0</td>\n",
              "      <td>2020823.0</td>\n",
              "      <td>1.0</td>\n",
              "      <td>2.0</td>\n",
              "      <td>0.0</td>\n",
              "      <td>1736.0</td>\n",
              "      <td>868.0</td>\n",
              "      <td>0.0</td>\n",
              "      <td>0.0</td>\n",
              "      <td>0.0</td>\n",
              "      <td>0.0</td>\n",
              "      <td>0.0</td>\n",
              "      <td>1.736000e+09</td>\n",
              "      <td>2.000000e+06</td>\n",
              "      <td>1.00000</td>\n",
              "      <td>0.00000</td>\n",
              "      <td>1.0</td>\n",
              "      <td>1.0</td>\n",
              "      <td>0.0</td>\n",
              "      <td>0.0</td>\n",
              "      <td>0.0</td>\n",
              "      <td>0.0</td>\n",
              "      <td>0.0</td>\n",
              "      <td>0.0</td>\n",
              "      <td>40.0</td>\n",
              "      <td>0.0</td>\n",
              "      <td>0.0</td>\n",
              "      <td>868.0</td>\n",
              "      <td>0.0</td>\n",
              "      <td>0.0</td>\n",
              "      <td>0.0</td>\n",
              "      <td>0.0</td>\n",
              "      <td>0.0</td>\n",
              "      <td>0.0</td>\n",
              "      <td>0.0</td>\n",
              "      <td>-1.0</td>\n",
              "      <td>-1.0</td>\n",
              "      <td>1.0</td>\n",
              "      <td>20.0</td>\n",
              "      <td>0.0</td>\n",
              "      <td>0.0</td>\n",
              "      <td>0.0</td>\n",
              "      <td>0.0</td>\n",
              "      <td>0.0</td>\n",
              "      <td>1.0</td>\n",
              "      <td>3</td>\n",
              "    </tr>\n",
              "    <tr>\n",
              "      <th>5922851</th>\n",
              "      <td>2929678.0</td>\n",
              "      <td>247.0</td>\n",
              "      <td>62619.0</td>\n",
              "      <td>554.0</td>\n",
              "      <td>6707.0</td>\n",
              "      <td>17.0</td>\n",
              "      <td>4965745.0</td>\n",
              "      <td>1.0</td>\n",
              "      <td>2.0</td>\n",
              "      <td>0.0</td>\n",
              "      <td>1032.0</td>\n",
              "      <td>516.0</td>\n",
              "      <td>0.0</td>\n",
              "      <td>0.0</td>\n",
              "      <td>0.0</td>\n",
              "      <td>0.0</td>\n",
              "      <td>0.0</td>\n",
              "      <td>1.032000e+09</td>\n",
              "      <td>2.000000e+06</td>\n",
              "      <td>1.00000</td>\n",
              "      <td>0.00000</td>\n",
              "      <td>1.0</td>\n",
              "      <td>1.0</td>\n",
              "      <td>0.0</td>\n",
              "      <td>0.0</td>\n",
              "      <td>0.0</td>\n",
              "      <td>0.0</td>\n",
              "      <td>0.0</td>\n",
              "      <td>0.0</td>\n",
              "      <td>1032.0</td>\n",
              "      <td>0.0</td>\n",
              "      <td>0.0</td>\n",
              "      <td>516.0</td>\n",
              "      <td>0.0</td>\n",
              "      <td>0.0</td>\n",
              "      <td>0.0</td>\n",
              "      <td>0.0</td>\n",
              "      <td>0.0</td>\n",
              "      <td>0.0</td>\n",
              "      <td>0.0</td>\n",
              "      <td>-1.0</td>\n",
              "      <td>-1.0</td>\n",
              "      <td>1.0</td>\n",
              "      <td>516.0</td>\n",
              "      <td>0.0</td>\n",
              "      <td>0.0</td>\n",
              "      <td>0.0</td>\n",
              "      <td>0.0</td>\n",
              "      <td>0.0</td>\n",
              "      <td>1.0</td>\n",
              "      <td>9</td>\n",
              "    </tr>\n",
              "    <tr>\n",
              "      <th>5922852</th>\n",
              "      <td>3602812.0</td>\n",
              "      <td>247.0</td>\n",
              "      <td>698.0</td>\n",
              "      <td>554.0</td>\n",
              "      <td>11480.0</td>\n",
              "      <td>17.0</td>\n",
              "      <td>1507413.0</td>\n",
              "      <td>1.0</td>\n",
              "      <td>2.0</td>\n",
              "      <td>0.0</td>\n",
              "      <td>2944.0</td>\n",
              "      <td>1472.0</td>\n",
              "      <td>0.0</td>\n",
              "      <td>0.0</td>\n",
              "      <td>0.0</td>\n",
              "      <td>0.0</td>\n",
              "      <td>0.0</td>\n",
              "      <td>2.944000e+09</td>\n",
              "      <td>2.000000e+06</td>\n",
              "      <td>1.00000</td>\n",
              "      <td>0.00000</td>\n",
              "      <td>1.0</td>\n",
              "      <td>1.0</td>\n",
              "      <td>0.0</td>\n",
              "      <td>0.0</td>\n",
              "      <td>0.0</td>\n",
              "      <td>0.0</td>\n",
              "      <td>0.0</td>\n",
              "      <td>0.0</td>\n",
              "      <td>40.0</td>\n",
              "      <td>0.0</td>\n",
              "      <td>0.0</td>\n",
              "      <td>1472.0</td>\n",
              "      <td>0.0</td>\n",
              "      <td>0.0</td>\n",
              "      <td>0.0</td>\n",
              "      <td>0.0</td>\n",
              "      <td>0.0</td>\n",
              "      <td>0.0</td>\n",
              "      <td>0.0</td>\n",
              "      <td>-1.0</td>\n",
              "      <td>-1.0</td>\n",
              "      <td>1.0</td>\n",
              "      <td>20.0</td>\n",
              "      <td>0.0</td>\n",
              "      <td>0.0</td>\n",
              "      <td>0.0</td>\n",
              "      <td>0.0</td>\n",
              "      <td>0.0</td>\n",
              "      <td>1.0</td>\n",
              "      <td>2</td>\n",
              "    </tr>\n",
              "  </tbody>\n",
              "</table>\n",
              "</div>"
            ],
            "text/plain": [
              "           Flow_ID  Source_IP  Source_Port  ...  Idle_Min  Inbound  Label\n",
              "5922848  3394327.0      247.0        658.0  ...       0.0      1.0      4\n",
              "5922849  3304444.0      247.0        648.0  ...       0.0      1.0      5\n",
              "5922850   421339.0      247.0      27294.0  ...       0.0      1.0      3\n",
              "5922851  2929678.0      247.0      62619.0  ...       0.0      1.0      9\n",
              "5922852  3602812.0      247.0        698.0  ...       0.0      1.0      2\n",
              "\n",
              "[5 rows x 51 columns]"
            ]
          },
          "metadata": {
            "tags": []
          },
          "execution_count": 5
        }
      ]
    },
    {
      "cell_type": "code",
      "metadata": {
        "colab": {
          "base_uri": "https://localhost:8080/"
        },
        "id": "BHog8KjEk7Be",
        "outputId": "4f29d21d-5bae-405a-cb4b-ec2f8c725cc9"
      },
      "source": [
        "#CNN \n",
        "import tensorflow as tf\n",
        "from tensorflow import keras\n",
        "from sklearn.preprocessing import StandardScaler\n",
        "import pandas\n",
        "from sklearn import model_selection\n",
        "import pickle\n",
        "\n",
        "\n",
        "#for spliting data into training and testing \n",
        "from sklearn.model_selection import train_test_split\n",
        "\n",
        "#CNN algorithm libraries\n",
        "from keras.models import Sequential\n",
        "from keras.optimizers import RMSprop\n",
        "from keras.layers import Dense, Dropout, Activation, Conv1D, GlobalMaxPooling1D\n",
        "from keras.callbacks import ModelCheckpoint, EarlyStopping, ReduceLROnPlateau, CSVLogger\n",
        "\n",
        "X = df.iloc[:, 0:-1].values\n",
        "y = df.iloc[:, -1].values\n",
        "standardScaler = StandardScaler()\n",
        "X= standardScaler.fit_transform(X)\n",
        "\n",
        "X_train, X_test, y_train, y_test = train_test_split(X, y, test_size=0.2, random_state=100)\n",
        "\n",
        "model = Sequential()\n",
        "model.add(Dense(64,input_shape=(50,)))\n",
        "model.add(Dropout(0.2))\n",
        "model.add(Activation('relu'))\n",
        "model.add(Dense(64))\n",
        "model.add(Dropout(0.2))\n",
        "model.add(Activation('relu'))\n",
        "model.add(Dense(13))\n",
        "model.add(Activation('softmax'))\n",
        "model.summary()\n",
        "adam = keras.optimizers.Adam(lr=0.001)\n",
        "monitor = EarlyStopping(monitor='val_loss', min_delta=1e-3, patience=5, verbose=1, mode='auto',\n",
        "      restore_best_weights=True)\n",
        "model.compile(loss='sparse_categorical_crossentropy',\n",
        "              optimizer=adam,\n",
        "              metrics=['acc'])\n",
        "\n",
        "\n",
        "model.fit(X_train,y_train,batch_size=64,epochs=100,callbacks=[monitor],validation_split=0.2)\n",
        "\n",
        "\n",
        "# rmsprop = keras.optimizers.rmsprop(lr=0.001)\n",
        "# model.compile(loss='sparse_categorical_crossentropy',\n",
        "#               optimizer=rmsprop,\n",
        "#               metrics=['acc'])"
      ],
      "execution_count": 6,
      "outputs": [
        {
          "output_type": "stream",
          "text": [
            "Model: \"sequential\"\n",
            "_________________________________________________________________\n",
            "Layer (type)                 Output Shape              Param #   \n",
            "=================================================================\n",
            "dense (Dense)                (None, 64)                3264      \n",
            "_________________________________________________________________\n",
            "dropout (Dropout)            (None, 64)                0         \n",
            "_________________________________________________________________\n",
            "activation (Activation)      (None, 64)                0         \n",
            "_________________________________________________________________\n",
            "dense_1 (Dense)              (None, 64)                4160      \n",
            "_________________________________________________________________\n",
            "dropout_1 (Dropout)          (None, 64)                0         \n",
            "_________________________________________________________________\n",
            "activation_1 (Activation)    (None, 64)                0         \n",
            "_________________________________________________________________\n",
            "dense_2 (Dense)              (None, 13)                845       \n",
            "_________________________________________________________________\n",
            "activation_2 (Activation)    (None, 13)                0         \n",
            "=================================================================\n",
            "Total params: 8,269\n",
            "Trainable params: 8,269\n",
            "Non-trainable params: 0\n",
            "_________________________________________________________________\n",
            "Epoch 1/100\n",
            "59229/59229 [==============================] - 207s 3ms/step - loss: 0.1674 - acc: 0.9425 - val_loss: 0.0442 - val_acc: 0.9835\n",
            "Epoch 2/100\n",
            "59229/59229 [==============================] - 203s 3ms/step - loss: 0.0600 - acc: 0.9792 - val_loss: 0.0428 - val_acc: 0.9850\n",
            "Epoch 3/100\n",
            "59229/59229 [==============================] - 205s 3ms/step - loss: 0.0543 - acc: 0.9815 - val_loss: 0.0431 - val_acc: 0.9833\n",
            "Epoch 4/100\n",
            "59229/59229 [==============================] - 204s 3ms/step - loss: 0.0501 - acc: 0.9830 - val_loss: 0.0330 - val_acc: 0.9883\n",
            "Epoch 5/100\n",
            "59229/59229 [==============================] - 205s 3ms/step - loss: 0.0467 - acc: 0.9839 - val_loss: 0.0440 - val_acc: 0.9807\n",
            "Epoch 6/100\n",
            "59229/59229 [==============================] - 203s 3ms/step - loss: 0.0443 - acc: 0.9848 - val_loss: 0.0400 - val_acc: 0.9823\n",
            "Epoch 7/100\n",
            "59229/59229 [==============================] - 199s 3ms/step - loss: 0.0438 - acc: 0.9856 - val_loss: 0.0370 - val_acc: 0.9845\n",
            "Epoch 8/100\n",
            "59229/59229 [==============================] - 199s 3ms/step - loss: 0.0419 - acc: 0.9860 - val_loss: 0.0314 - val_acc: 0.9892\n",
            "Epoch 9/100\n",
            "59229/59229 [==============================] - 202s 3ms/step - loss: 0.0403 - acc: 0.9863 - val_loss: 0.0492 - val_acc: 0.9801\n",
            "Epoch 10/100\n",
            "59229/59229 [==============================] - 203s 3ms/step - loss: 0.0391 - acc: 0.9870 - val_loss: 0.0367 - val_acc: 0.9863\n",
            "Epoch 11/100\n",
            "59229/59229 [==============================] - 203s 3ms/step - loss: 0.0389 - acc: 0.9870 - val_loss: 0.0383 - val_acc: 0.9828\n",
            "Epoch 12/100\n",
            "59229/59229 [==============================] - 206s 3ms/step - loss: 0.0385 - acc: 0.9873 - val_loss: 0.0319 - val_acc: 0.9877\n",
            "Epoch 13/100\n",
            "59229/59229 [==============================] - 205s 3ms/step - loss: 0.0371 - acc: 0.9876 - val_loss: 0.0446 - val_acc: 0.9828\n",
            "Restoring model weights from the end of the best epoch.\n",
            "Epoch 00013: early stopping\n"
          ],
          "name": "stdout"
        },
        {
          "output_type": "execute_result",
          "data": {
            "text/plain": [
              "<tensorflow.python.keras.callbacks.History at 0x7f7a5cace710>"
            ]
          },
          "metadata": {
            "tags": []
          },
          "execution_count": 6
        }
      ]
    },
    {
      "cell_type": "code",
      "metadata": {
        "colab": {
          "base_uri": "https://localhost:8080/"
        },
        "id": "XYnPLNKgW9AD",
        "outputId": "55eed332-8ac9-4122-ccba-cee7e8009aed"
      },
      "source": [
        "import tensorflow as tf\n",
        "from tensorflow import keras\n",
        "from sklearn.preprocessing import StandardScaler\n",
        "import pandas\n",
        "from sklearn import model_selection\n",
        "import pickle\n",
        "\n",
        "from keras.models import model_from_json\n",
        "import numpy\n",
        "# serialize model to JSON\n",
        "model_json = model.to_json()\n",
        "with open(\"model.json\", \"w\") as json_file:\n",
        "    json_file.write(model_json)\n",
        "# serialize weights to HDF5\n",
        "model.save_weights(\"model.h5\")\n",
        "print(\"Saved model to disk\")"
      ],
      "execution_count": 7,
      "outputs": [
        {
          "output_type": "stream",
          "text": [
            "Saved model to disk\n"
          ],
          "name": "stdout"
        }
      ]
    },
    {
      "cell_type": "code",
      "metadata": {
        "colab": {
          "base_uri": "https://localhost:8080/"
        },
        "id": "ILgxG_aHl2CR",
        "outputId": "ddf6ad22-487f-482c-a616-0686b30403f9"
      },
      "source": [
        "accr = model.evaluate(X_test,y_test)"
      ],
      "execution_count": 8,
      "outputs": [
        {
          "output_type": "stream",
          "text": [
            "37018/37018 [==============================] - 86s 2ms/step - loss: 0.0317 - acc: 0.9890\n"
          ],
          "name": "stdout"
        }
      ]
    },
    {
      "cell_type": "code",
      "metadata": {
        "colab": {
          "base_uri": "https://localhost:8080/"
        },
        "id": "e8kPMeVUmaln",
        "outputId": "0d4924a1-3e6b-46a7-9ef8-f5c20034da49"
      },
      "source": [
        "from sklearn.metrics import classification_report\n",
        "\n",
        "y_pred = model.predict(X_test)\n",
        "y_pred=y_pred.argmax(axis=1)\n",
        "print('Test set\\n  Accuracy: {:0.2f}'.format(accr[1]))\n",
        "\n",
        "print('\\n')\n",
        "print(\"Precision, Recall, F1\")\n",
        "print('\\n')\n",
        "CR=classification_report(y_test, y_pred)\n",
        "print(CR)\n",
        "print('\\n')"
      ],
      "execution_count": 9,
      "outputs": [
        {
          "output_type": "stream",
          "text": [
            "Test set\n",
            "  Accuracy: 0.99\n",
            "\n",
            "\n",
            "Precision, Recall, F1\n",
            "\n",
            "\n",
            "              precision    recall  f1-score   support\n",
            "\n",
            "           0       1.00      1.00      1.00     98728\n",
            "           1       1.00      0.99      0.99     99706\n",
            "           2       0.99      1.00      0.99     99780\n",
            "           3       0.99      0.99      0.99    100308\n",
            "           4       1.00      1.00      1.00     99691\n",
            "           5       0.99      0.99      0.99     99739\n",
            "           6       0.99      0.99      0.99    100159\n",
            "           7       1.00      0.97      0.98     99940\n",
            "           8       0.98      1.00      0.99     87393\n",
            "           9       1.00      0.99      0.99    100249\n",
            "          10       0.94      1.00      0.97    100124\n",
            "          11       1.00      0.96      0.98     98754\n",
            "\n",
            "    accuracy                           0.99   1184571\n",
            "   macro avg       0.99      0.99      0.99   1184571\n",
            "weighted avg       0.99      0.99      0.99   1184571\n",
            "\n",
            "\n",
            "\n"
          ],
          "name": "stdout"
        }
      ]
    },
    {
      "cell_type": "code",
      "metadata": {
        "colab": {
          "base_uri": "https://localhost:8080/",
          "height": 995
        },
        "id": "5mCCSXq4mfAS",
        "outputId": "14c15272-7f9f-4082-8e49-c2199315bee1"
      },
      "source": [
        "from sklearn.metrics import confusion_matrix\n",
        "from mlxtend.plotting import plot_confusion_matrix\n",
        "\n",
        "cm=confusion_matrix(y_test,y_pred)\n",
        "print('Confusion Matrix\\n\\n', cm)\n",
        "\n",
        "print('\\n')\n",
        "fig, ax = plot_confusion_matrix(conf_mat=cm,figsize=(12, 12),\n",
        "                                show_absolute=True,\n",
        "                                show_normed=True,\n",
        "                                colorbar=True)\n",
        "plt.show()\n",
        "print('\\n')"
      ],
      "execution_count": 10,
      "outputs": [
        {
          "output_type": "stream",
          "text": [
            "Confusion Matrix\n",
            "\n",
            " [[98724     0     0     0     0     0     0     0     0     0     4     0]\n",
            " [   17 99033   378     2   276     0     0     0     0     0     0     0]\n",
            " [   20   114 99604    34     8     0     0     0     0     0     0     0]\n",
            " [    8     0   550 99545     0   205     0     0     0     0     0     0]\n",
            " [  125   328     0     2 99236     0     0     0     0     0     0     0]\n",
            " [   14     0     0  1041     0 98624    60     0     0     0     0     0]\n",
            " [   15     0     0     0     0   653 99173   306     0     0     5     7]\n",
            " [    8     0     0     0     0     2   592 97280     2     0  2052     4]\n",
            " [    2     0     0     0     0     0     0     0 87117    10    12   252]\n",
            " [    4     0     0     0     0     0     0     0  1479 98762     1     3]\n",
            " [    7     0     0     0     0     1     1     8     0     0 99955   152]\n",
            " [    6     0     0     0     0     0     0     0   130     0  4142 94476]]\n",
            "\n",
            "\n"
          ],
          "name": "stdout"
        },
        {
          "output_type": "display_data",
          "data": {
            "image/png": "[encoded data removed]",
            "text/plain": [
              "<Figure size 864x864 with 2 Axes>"
            ]
          },
          "metadata": {
            "tags": [],
            "needs_background": "light"
          }
        },
        {
          "output_type": "stream",
          "text": [
            "\n",
            "\n"
          ],
          "name": "stdout"
        }
      ]
    }
  ]
}